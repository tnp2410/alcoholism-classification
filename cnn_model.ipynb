{
 "cells": [
  {
   "cell_type": "code",
   "execution_count": 70,
   "id": "1b25a237",
   "metadata": {},
   "outputs": [
    {
     "name": "stdout",
     "output_type": "stream",
     "text": [
      "Requirement already satisfied: tensorflow in /Users/dpark_23/anaconda3/lib/python3.11/site-packages (2.16.2)\n",
      "Requirement already satisfied: absl-py>=1.0.0 in /Users/dpark_23/anaconda3/lib/python3.11/site-packages (from tensorflow) (2.1.0)\n",
      "Requirement already satisfied: astunparse>=1.6.0 in /Users/dpark_23/anaconda3/lib/python3.11/site-packages (from tensorflow) (1.6.3)\n",
      "Requirement already satisfied: flatbuffers>=23.5.26 in /Users/dpark_23/anaconda3/lib/python3.11/site-packages (from tensorflow) (25.2.10)\n",
      "Requirement already satisfied: gast!=0.5.0,!=0.5.1,!=0.5.2,>=0.2.1 in /Users/dpark_23/anaconda3/lib/python3.11/site-packages (from tensorflow) (0.6.0)\n",
      "Requirement already satisfied: google-pasta>=0.1.1 in /Users/dpark_23/anaconda3/lib/python3.11/site-packages (from tensorflow) (0.2.0)\n",
      "Requirement already satisfied: h5py>=3.10.0 in /Users/dpark_23/anaconda3/lib/python3.11/site-packages (from tensorflow) (3.13.0)\n",
      "Requirement already satisfied: libclang>=13.0.0 in /Users/dpark_23/anaconda3/lib/python3.11/site-packages (from tensorflow) (18.1.1)\n",
      "Requirement already satisfied: ml-dtypes~=0.3.1 in /Users/dpark_23/anaconda3/lib/python3.11/site-packages (from tensorflow) (0.3.2)\n",
      "Requirement already satisfied: opt-einsum>=2.3.2 in /Users/dpark_23/anaconda3/lib/python3.11/site-packages (from tensorflow) (3.4.0)\n",
      "Requirement already satisfied: packaging in /Users/dpark_23/anaconda3/lib/python3.11/site-packages (from tensorflow) (23.1)\n",
      "Requirement already satisfied: protobuf!=4.21.0,!=4.21.1,!=4.21.2,!=4.21.3,!=4.21.4,!=4.21.5,<5.0.0dev,>=3.20.3 in /Users/dpark_23/anaconda3/lib/python3.11/site-packages (from tensorflow) (4.25.6)\n",
      "Requirement already satisfied: requests<3,>=2.21.0 in /Users/dpark_23/anaconda3/lib/python3.11/site-packages (from tensorflow) (2.32.3)\n",
      "Requirement already satisfied: setuptools in /Users/dpark_23/anaconda3/lib/python3.11/site-packages (from tensorflow) (75.6.0)\n",
      "Requirement already satisfied: six>=1.12.0 in /Users/dpark_23/anaconda3/lib/python3.11/site-packages (from tensorflow) (1.16.0)\n",
      "Requirement already satisfied: termcolor>=1.1.0 in /Users/dpark_23/anaconda3/lib/python3.11/site-packages (from tensorflow) (2.5.0)\n",
      "Requirement already satisfied: typing-extensions>=3.6.6 in /Users/dpark_23/anaconda3/lib/python3.11/site-packages (from tensorflow) (4.12.2)\n",
      "Requirement already satisfied: wrapt>=1.11.0 in /Users/dpark_23/anaconda3/lib/python3.11/site-packages (from tensorflow) (1.14.1)\n",
      "Requirement already satisfied: grpcio<2.0,>=1.24.3 in /Users/dpark_23/anaconda3/lib/python3.11/site-packages (from tensorflow) (1.71.0)\n",
      "Requirement already satisfied: tensorboard<2.17,>=2.16 in /Users/dpark_23/anaconda3/lib/python3.11/site-packages (from tensorflow) (2.16.2)\n",
      "Requirement already satisfied: keras>=3.0.0 in /Users/dpark_23/anaconda3/lib/python3.11/site-packages (from tensorflow) (3.9.0)\n",
      "Requirement already satisfied: tensorflow-io-gcs-filesystem>=0.23.1 in /Users/dpark_23/anaconda3/lib/python3.11/site-packages (from tensorflow) (0.37.1)\n",
      "Requirement already satisfied: numpy<2.0.0,>=1.23.5 in /Users/dpark_23/anaconda3/lib/python3.11/site-packages (from tensorflow) (1.26.4)\n",
      "Requirement already satisfied: wheel<1.0,>=0.23.0 in /Users/dpark_23/anaconda3/lib/python3.11/site-packages (from astunparse>=1.6.0->tensorflow) (0.45.1)\n",
      "Requirement already satisfied: rich in /Users/dpark_23/anaconda3/lib/python3.11/site-packages (from keras>=3.0.0->tensorflow) (13.9.4)\n",
      "Requirement already satisfied: namex in /Users/dpark_23/anaconda3/lib/python3.11/site-packages (from keras>=3.0.0->tensorflow) (0.0.8)\n",
      "Requirement already satisfied: optree in /Users/dpark_23/anaconda3/lib/python3.11/site-packages (from keras>=3.0.0->tensorflow) (0.14.1)\n",
      "Requirement already satisfied: charset-normalizer<4,>=2 in /Users/dpark_23/anaconda3/lib/python3.11/site-packages (from requests<3,>=2.21.0->tensorflow) (2.0.4)\n",
      "Requirement already satisfied: idna<4,>=2.5 in /Users/dpark_23/anaconda3/lib/python3.11/site-packages (from requests<3,>=2.21.0->tensorflow) (3.4)\n",
      "Requirement already satisfied: urllib3<3,>=1.21.1 in /Users/dpark_23/anaconda3/lib/python3.11/site-packages (from requests<3,>=2.21.0->tensorflow) (1.26.16)\n",
      "Requirement already satisfied: certifi>=2017.4.17 in /Users/dpark_23/anaconda3/lib/python3.11/site-packages (from requests<3,>=2.21.0->tensorflow) (2024.8.30)\n",
      "Requirement already satisfied: markdown>=2.6.8 in /Users/dpark_23/anaconda3/lib/python3.11/site-packages (from tensorboard<2.17,>=2.16->tensorflow) (3.4.1)\n",
      "Requirement already satisfied: tensorboard-data-server<0.8.0,>=0.7.0 in /Users/dpark_23/anaconda3/lib/python3.11/site-packages (from tensorboard<2.17,>=2.16->tensorflow) (0.7.2)\n",
      "Requirement already satisfied: werkzeug>=1.0.1 in /Users/dpark_23/anaconda3/lib/python3.11/site-packages (from tensorboard<2.17,>=2.16->tensorflow) (2.2.3)\n",
      "Requirement already satisfied: MarkupSafe>=2.1.1 in /Users/dpark_23/anaconda3/lib/python3.11/site-packages (from werkzeug>=1.0.1->tensorboard<2.17,>=2.16->tensorflow) (2.1.1)\n",
      "Requirement already satisfied: markdown-it-py>=2.2.0 in /Users/dpark_23/anaconda3/lib/python3.11/site-packages (from rich->keras>=3.0.0->tensorflow) (2.2.0)\n",
      "Requirement already satisfied: pygments<3.0.0,>=2.13.0 in /Users/dpark_23/anaconda3/lib/python3.11/site-packages (from rich->keras>=3.0.0->tensorflow) (2.15.1)\n",
      "Requirement already satisfied: mdurl~=0.1 in /Users/dpark_23/anaconda3/lib/python3.11/site-packages (from markdown-it-py>=2.2.0->rich->keras>=3.0.0->tensorflow) (0.1.0)\n",
      "\n",
      "\u001b[1m[\u001b[0m\u001b[34;49mnotice\u001b[0m\u001b[1;39;49m]\u001b[0m\u001b[39;49m A new release of pip is available: \u001b[0m\u001b[31;49m24.3.1\u001b[0m\u001b[39;49m -> \u001b[0m\u001b[32;49m25.0.1\u001b[0m\n",
      "\u001b[1m[\u001b[0m\u001b[34;49mnotice\u001b[0m\u001b[1;39;49m]\u001b[0m\u001b[39;49m To update, run: \u001b[0m\u001b[32;49mpip install --upgrade pip\u001b[0m\n",
      "Note: you may need to restart the kernel to use updated packages.\n"
     ]
    }
   ],
   "source": [
    "pip install tensorflow"
   ]
  },
  {
   "cell_type": "code",
   "execution_count": 71,
   "id": "04b07f5e",
   "metadata": {},
   "outputs": [
    {
     "name": "stderr",
     "output_type": "stream",
     "text": [
      "/Users/dpark_23/anaconda3/lib/python3.11/site-packages/keras/src/layers/convolutional/base_conv.py:107: UserWarning: Do not pass an `input_shape`/`input_dim` argument to a layer. When using Sequential models, prefer using an `Input(shape)` object as the first layer in the model instead.\n",
      "  super().__init__(activity_regularizer=activity_regularizer, **kwargs)\n"
     ]
    }
   ],
   "source": [
    "import pandas as pd\n",
    "from sklearn.preprocessing import StandardScaler\n",
    "from sklearn.model_selection import train_test_split\n",
    "from sklearn.metrics import accuracy_score, classification_report\n",
    "import tensorflow as tf\n",
    "from tensorflow.keras import layers, models\n",
    "\n",
    "train = pd.read_csv('train_df.csv')\n",
    "test = pd.read_csv('test_df.csv')\n",
    "\n",
    "validation_subjects = {\"co2a0000377\", \"co2a0000364\", \"co2c0000342\", \"co2c0000345\"}\n",
    "val = test[test['subject'].isin(validation_subjects)].drop(columns=['sample', 'match', 'err', 'object'])\n",
    "test = test[~test['subject'].isin(validation_subjects)]\n",
    "train = train[~train['subject'].isin(validation_subjects)]\n",
    "\n",
    "train = train.drop(columns=['sample', 'match', 'err', 'object'])\n",
    "test = test.drop(columns=['sample', 'match', 'err', 'object'])\n",
    "\n",
    "X_train = train.drop(columns=['alcoholic', 'subject'])\n",
    "y_train = train[['alcoholic']]\n",
    "\n",
    "X_test = test.drop(columns=['alcoholic', 'subject'])\n",
    "y_test = test[['alcoholic']]\n",
    "\n",
    "X_val = val.drop(columns=['alcoholic', 'subject'])\n",
    "y_val = val[['alcoholic']]\n",
    "\n",
    "# normalize\n",
    "scaler = StandardScaler()\n",
    "X_train = scaler.fit_transform(X_train)\n",
    "X_test = scaler.transform(X_test)\n",
    "X_val = scaler.transform(X_val)\n",
    "\n",
    "X_train = X_train.reshape((X_train.shape[0], X_train.shape[1], 1))\n",
    "X_test = X_test.reshape((X_test.shape[0], X_test.shape[1], 1))\n",
    "X_val = X_val.reshape((X_val.shape[0], X_val.shape[1], 1))\n",
    "\n",
    "# model layers\n",
    "model = models.Sequential()\n",
    "\n",
    "model.add(layers.Conv1D(64, 3, activation='relu', input_shape=(X_train.shape[1], 1)))\n",
    "model.add(layers.MaxPooling1D(2))\n",
    "\n",
    "model.add(layers.Conv1D(128, 3, activation='relu'))\n",
    "model.add(layers.MaxPooling1D(2))\n",
    "\n",
    "model.add(layers.Flatten())\n",
    "model.add(layers.Dense(64, activation='relu'))\n",
    "model.add(layers.Dense(1, activation='sigmoid'))\n",
    "\n",
    "model.compile(optimizer='adam', \n",
    "              loss='binary_crossentropy', \n",
    "              metrics=['accuracy', tf.keras.metrics.Precision(), tf.keras.metrics.Recall()])"
   ]
  },
  {
   "cell_type": "code",
   "execution_count": 72,
   "id": "c35b7a7f",
   "metadata": {},
   "outputs": [
    {
     "name": "stdout",
     "output_type": "stream",
     "text": [
      "Epoch 1/10\n",
      "\u001b[1m3840/3840\u001b[0m \u001b[32m━━━━━━━━━━━━━━━━━━━━\u001b[0m\u001b[37m\u001b[0m \u001b[1m22s\u001b[0m 5ms/step - accuracy: 0.8012 - loss: 0.4055 - precision_6: 0.8057 - recall_6: 0.7910 - val_accuracy: 0.8198 - val_loss: 0.4972 - val_precision_6: 0.8713 - val_recall_6: 0.7505\n",
      "Epoch 2/10\n",
      "\u001b[1m3840/3840\u001b[0m \u001b[32m━━━━━━━━━━━━━━━━━━━━\u001b[0m\u001b[37m\u001b[0m \u001b[1m20s\u001b[0m 5ms/step - accuracy: 0.9247 - loss: 0.1845 - precision_6: 0.9240 - recall_6: 0.9258 - val_accuracy: 0.8480 - val_loss: 0.4725 - val_precision_6: 0.8619 - val_recall_6: 0.8288\n",
      "Epoch 3/10\n",
      "\u001b[1m3840/3840\u001b[0m \u001b[32m━━━━━━━━━━━━━━━━━━━━\u001b[0m\u001b[37m\u001b[0m \u001b[1m21s\u001b[0m 5ms/step - accuracy: 0.9525 - loss: 0.1201 - precision_6: 0.9512 - recall_6: 0.9541 - val_accuracy: 0.8559 - val_loss: 0.5083 - val_precision_6: 0.8778 - val_recall_6: 0.8270\n",
      "Epoch 4/10\n",
      "\u001b[1m3840/3840\u001b[0m \u001b[32m━━━━━━━━━━━━━━━━━━━━\u001b[0m\u001b[37m\u001b[0m \u001b[1m22s\u001b[0m 6ms/step - accuracy: 0.9644 - loss: 0.0906 - precision_6: 0.9633 - recall_6: 0.9656 - val_accuracy: 0.8646 - val_loss: 0.4373 - val_precision_6: 0.8568 - val_recall_6: 0.8755\n",
      "Epoch 5/10\n",
      "\u001b[1m3840/3840\u001b[0m \u001b[32m━━━━━━━━━━━━━━━━━━━━\u001b[0m\u001b[37m\u001b[0m \u001b[1m21s\u001b[0m 5ms/step - accuracy: 0.9734 - loss: 0.0690 - precision_6: 0.9729 - recall_6: 0.9741 - val_accuracy: 0.8681 - val_loss: 0.5963 - val_precision_6: 0.8932 - val_recall_6: 0.8361\n",
      "Epoch 6/10\n",
      "\u001b[1m3840/3840\u001b[0m \u001b[32m━━━━━━━━━━━━━━━━━━━━\u001b[0m\u001b[37m\u001b[0m \u001b[1m21s\u001b[0m 5ms/step - accuracy: 0.9789 - loss: 0.0558 - precision_6: 0.9783 - recall_6: 0.9797 - val_accuracy: 0.8642 - val_loss: 0.5712 - val_precision_6: 0.8894 - val_recall_6: 0.8319\n",
      "Epoch 7/10\n",
      "\u001b[1m3840/3840\u001b[0m \u001b[32m━━━━━━━━━━━━━━━━━━━━\u001b[0m\u001b[37m\u001b[0m \u001b[1m21s\u001b[0m 5ms/step - accuracy: 0.9821 - loss: 0.0465 - precision_6: 0.9817 - recall_6: 0.9824 - val_accuracy: 0.8726 - val_loss: 0.5837 - val_precision_6: 0.8780 - val_recall_6: 0.8655\n",
      "Epoch 8/10\n",
      "\u001b[1m3840/3840\u001b[0m \u001b[32m━━━━━━━━━━━━━━━━━━━━\u001b[0m\u001b[37m\u001b[0m \u001b[1m21s\u001b[0m 6ms/step - accuracy: 0.9854 - loss: 0.0410 - precision_6: 0.9852 - recall_6: 0.9857 - val_accuracy: 0.8676 - val_loss: 0.6828 - val_precision_6: 0.8743 - val_recall_6: 0.8586\n",
      "Epoch 9/10\n",
      "\u001b[1m3840/3840\u001b[0m \u001b[32m━━━━━━━━━━━━━━━━━━━━\u001b[0m\u001b[37m\u001b[0m \u001b[1m21s\u001b[0m 5ms/step - accuracy: 0.9863 - loss: 0.0365 - precision_6: 0.9859 - recall_6: 0.9867 - val_accuracy: 0.8731 - val_loss: 0.6573 - val_precision_6: 0.8616 - val_recall_6: 0.8890\n",
      "Epoch 10/10\n",
      "\u001b[1m3840/3840\u001b[0m \u001b[32m━━━━━━━━━━━━━━━━━━━━\u001b[0m\u001b[37m\u001b[0m \u001b[1m21s\u001b[0m 5ms/step - accuracy: 0.9894 - loss: 0.0301 - precision_6: 0.9891 - recall_6: 0.9898 - val_accuracy: 0.8728 - val_loss: 0.6493 - val_precision_6: 0.8878 - val_recall_6: 0.8534\n",
      "\u001b[1m3840/3840\u001b[0m \u001b[32m━━━━━━━━━━━━━━━━━━━━\u001b[0m\u001b[37m\u001b[0m \u001b[1m6s\u001b[0m 2ms/step - accuracy: 0.8730 - loss: 0.5729 - precision_6: 0.8287 - recall_6: 0.7885\n",
      "Test Accuracy: 0.8727864623069763\n",
      "\u001b[1m3840/3840\u001b[0m \u001b[32m━━━━━━━━━━━━━━━━━━━━\u001b[0m\u001b[37m\u001b[0m \u001b[1m5s\u001b[0m 1ms/step\n",
      "              precision    recall  f1-score   support\n",
      "\n",
      "       False       0.86      0.89      0.88     61440\n",
      "        True       0.89      0.85      0.87     61440\n",
      "\n",
      "    accuracy                           0.87    122880\n",
      "   macro avg       0.87      0.87      0.87    122880\n",
      "weighted avg       0.87      0.87      0.87    122880\n",
      "\n"
     ]
    }
   ],
   "source": [
    "# train\n",
    "history = model.fit(X_train, y_train, epochs=10, validation_data=(X_test, y_test))\n",
    "\n",
    "# evaluate\n",
    "test_metrics = model.evaluate(X_test, y_test)\n",
    "\n",
    "# prints\n",
    "test_accuracy = test_metrics[1]\n",
    "print(f'Test Accuracy: {test_accuracy}')\n",
    "\n",
    "# class report\n",
    "y_pred = (model.predict(X_test) > 0.5)\n",
    "print(classification_report(y_test, y_pred))"
   ]
  },
  {
   "cell_type": "code",
   "execution_count": 74,
   "id": "f78ac5b4",
   "metadata": {},
   "outputs": [
    {
     "name": "stdout",
     "output_type": "stream",
     "text": [
      "\u001b[1m3840/3840\u001b[0m \u001b[32m━━━━━━━━━━━━━━━━━━━━\u001b[0m\u001b[37m\u001b[0m \u001b[1m7s\u001b[0m 2ms/step - accuracy: 0.8730 - loss: 0.5729 - precision_6: 0.8287 - recall_6: 0.7885\n",
      "Test Loss: 0.6492851376533508\n",
      "Test Accuracy: 0.8727864623069763\n"
     ]
    }
   ],
   "source": [
    "# our test metrics\n",
    "test_metrics = model.evaluate(X_test, y_test)\n",
    "test_loss = test_metrics[0]\n",
    "test_acc = test_metrics[1]\n",
    "\n",
    "print(f'Test Loss: {test_loss}')\n",
    "print(f'Test Accuracy: {test_acc}')"
   ]
  },
  {
   "cell_type": "code",
   "execution_count": 75,
   "id": "dc67ae9a",
   "metadata": {},
   "outputs": [
    {
     "name": "stdout",
     "output_type": "stream",
     "text": [
      "\u001b[1m960/960\u001b[0m \u001b[32m━━━━━━━━━━━━━━━━━━━━\u001b[0m\u001b[37m\u001b[0m \u001b[1m1s\u001b[0m 1ms/step\n",
      "\u001b[1m960/960\u001b[0m \u001b[32m━━━━━━━━━━━━━━━━━━━━\u001b[0m\u001b[37m\u001b[0m \u001b[1m2s\u001b[0m 2ms/step - accuracy: 0.5455 - loss: 1.9766 - precision_6: 0.9440 - recall_6: 0.4980\n",
      "Val Loss: 1.3376696109771729\n",
      "Val Accuracy: 0.7036458253860474\n"
     ]
    }
   ],
   "source": [
    "# our validation metrics\n",
    "y_val_pred = (model.predict(X_val) > 0.5)\n",
    "val_metrics = model.evaluate(X_val, y_val)\n",
    "val_loss = val_metrics[0]\n",
    "val_acc = val_metrics[1]\n",
    "\n",
    "print(f'Val Loss: {val_loss}')\n",
    "print(f'Val Accuracy: {val_acc}')"
   ]
  },
  {
   "cell_type": "code",
   "execution_count": 76,
   "id": "1af896aa",
   "metadata": {},
   "outputs": [
    {
     "name": "stdout",
     "output_type": "stream",
     "text": [
      "              precision    recall  f1-score   support\n",
      "\n",
      "       False       0.86      0.89      0.88     61440\n",
      "        True       0.89      0.85      0.87     61440\n",
      "\n",
      "    accuracy                           0.87    122880\n",
      "   macro avg       0.87      0.87      0.87    122880\n",
      "weighted avg       0.87      0.87      0.87    122880\n",
      "\n"
     ]
    }
   ],
   "source": [
    "# test classification report\n",
    "print(classification_report(y_test, y_pred))"
   ]
  },
  {
   "cell_type": "code",
   "execution_count": 77,
   "id": "3ba79547",
   "metadata": {},
   "outputs": [
    {
     "name": "stdout",
     "output_type": "stream",
     "text": [
      "              precision    recall  f1-score   support\n",
      "\n",
      "       False       0.66      0.86      0.74     15360\n",
      "        True       0.80      0.55      0.65     15360\n",
      "\n",
      "    accuracy                           0.70     30720\n",
      "   macro avg       0.73      0.70      0.70     30720\n",
      "weighted avg       0.73      0.70      0.70     30720\n",
      "\n"
     ]
    }
   ],
   "source": [
    "# validation classification report\n",
    "print(classification_report(y_val, y_val_pred))"
   ]
  },
  {
   "cell_type": "code",
   "execution_count": null,
   "id": "cb30e78d",
   "metadata": {},
   "outputs": [],
   "source": []
  }
 ],
 "metadata": {
  "kernelspec": {
   "display_name": "Python 3 (ipykernel)",
   "language": "python",
   "name": "python3"
  },
  "language_info": {
   "codemirror_mode": {
    "name": "ipython",
    "version": 3
   },
   "file_extension": ".py",
   "mimetype": "text/x-python",
   "name": "python",
   "nbconvert_exporter": "python",
   "pygments_lexer": "ipython3",
   "version": "3.11.5"
  }
 },
 "nbformat": 4,
 "nbformat_minor": 5
}
